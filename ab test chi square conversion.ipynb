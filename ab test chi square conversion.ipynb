{
 "cells": [
  {
   "cell_type": "code",
   "execution_count": 1,
   "id": "db29eca5",
   "metadata": {},
   "outputs": [],
   "source": [
    "#First we clarify the problem we want to solve this time\n",
    "#We presume, we are holding a campaign in an e-commerce site\n",
    "#We have two pages for one same step, the old one (control/null) and the new one (treatment/alternative)\n",
    "#We are trying to find out, if the new page leads to a significant improvement on Conversion, comparing to the old page"
   ]
  },
  {
   "cell_type": "code",
   "execution_count": null,
   "id": "088766e7",
   "metadata": {},
   "outputs": [],
   "source": []
  },
  {
   "cell_type": "code",
   "execution_count": 2,
   "id": "9a1ffb80",
   "metadata": {},
   "outputs": [],
   "source": [
    "#We are going to use A/B test, a common method to solve problem like this\n",
    "#But there are several different types of A/B test\n",
    "#Based on which kind of Distribution that our data follows, we have to choose different type of A/B test"
   ]
  },
  {
   "cell_type": "code",
   "execution_count": null,
   "id": "378a0be4",
   "metadata": {},
   "outputs": [],
   "source": []
  },
  {
   "cell_type": "code",
   "execution_count": 3,
   "id": "25a671d8",
   "metadata": {},
   "outputs": [],
   "source": [
    "#The problem in this case is about the Conversion Rate of the page\n",
    "#When people click the page it is a \"YES/ONE\", otherwise it is a \"NO/ZERO\"\n",
    "#It follows NOT a Gaussian Distribution (e.g. Normal Distribution), but a Bernoulli Distribution\n",
    "#So we are going to use the Chi-Square type of A/B test this time"
   ]
  },
  {
   "cell_type": "code",
   "execution_count": null,
   "id": "2d1e2932",
   "metadata": {},
   "outputs": [],
   "source": []
  },
  {
   "cell_type": "code",
   "execution_count": 4,
   "id": "0514b3eb",
   "metadata": {},
   "outputs": [],
   "source": [
    "#We follow these three steps below when conducting Chi-Square A/B test \n",
    "#Step 1. Calculate the Chi-Squared test statistic\n",
    "#Step 2. Calculate the p-value\n",
    "#Step 3. Compare the p-value against the level of significance"
   ]
  },
  {
   "cell_type": "code",
   "execution_count": null,
   "id": "4d2e7f5b",
   "metadata": {},
   "outputs": [],
   "source": []
  },
  {
   "cell_type": "code",
   "execution_count": 28,
   "id": "fe586c21",
   "metadata": {},
   "outputs": [],
   "source": [
    "#The introduction is as above, let us begin now\n",
    "#First we import the libraries and our dataset\n",
    "\n",
    "import numpy as np\n",
    "import pandas as pd\n",
    "import scipy\n",
    "import matplotlib.pyplot as plt\n",
    "\n",
    "df = pd.read_csv(r'D:\\kaggle\\input\\ab-test-chi-square-conversion\\ab_data.csv')"
   ]
  },
  {
   "cell_type": "code",
   "execution_count": 29,
   "id": "f9b00af6",
   "metadata": {},
   "outputs": [
    {
     "data": {
      "text/html": [
       "<div>\n",
       "<style scoped>\n",
       "    .dataframe tbody tr th:only-of-type {\n",
       "        vertical-align: middle;\n",
       "    }\n",
       "\n",
       "    .dataframe tbody tr th {\n",
       "        vertical-align: top;\n",
       "    }\n",
       "\n",
       "    .dataframe thead th {\n",
       "        text-align: right;\n",
       "    }\n",
       "</style>\n",
       "<table border=\"1\" class=\"dataframe\">\n",
       "  <thead>\n",
       "    <tr style=\"text-align: right;\">\n",
       "      <th></th>\n",
       "      <th></th>\n",
       "      <th>user_id</th>\n",
       "      <th>timestamp</th>\n",
       "      <th>converted</th>\n",
       "    </tr>\n",
       "    <tr>\n",
       "      <th>group</th>\n",
       "      <th>landing_page</th>\n",
       "      <th></th>\n",
       "      <th></th>\n",
       "      <th></th>\n",
       "    </tr>\n",
       "  </thead>\n",
       "  <tbody>\n",
       "    <tr>\n",
       "      <th rowspan=\"2\" valign=\"top\">control</th>\n",
       "      <th>new_page</th>\n",
       "      <td>1928</td>\n",
       "      <td>1928</td>\n",
       "      <td>1928</td>\n",
       "    </tr>\n",
       "    <tr>\n",
       "      <th>old_page</th>\n",
       "      <td>145274</td>\n",
       "      <td>145274</td>\n",
       "      <td>145274</td>\n",
       "    </tr>\n",
       "    <tr>\n",
       "      <th rowspan=\"2\" valign=\"top\">treatment</th>\n",
       "      <th>new_page</th>\n",
       "      <td>145311</td>\n",
       "      <td>145311</td>\n",
       "      <td>145311</td>\n",
       "    </tr>\n",
       "    <tr>\n",
       "      <th>old_page</th>\n",
       "      <td>1965</td>\n",
       "      <td>1965</td>\n",
       "      <td>1965</td>\n",
       "    </tr>\n",
       "  </tbody>\n",
       "</table>\n",
       "</div>"
      ],
      "text/plain": [
       "                        user_id  timestamp  converted\n",
       "group     landing_page                               \n",
       "control   new_page         1928       1928       1928\n",
       "          old_page       145274     145274     145274\n",
       "treatment new_page       145311     145311     145311\n",
       "          old_page         1965       1965       1965"
      ]
     },
     "execution_count": 29,
     "metadata": {},
     "output_type": "execute_result"
    }
   ],
   "source": [
    "#Data Cleansing we do, before performing A/B test\n",
    "#Let check if there are any users in the control group (A group) saw new page\n",
    "#Or any users in the treatment group (B group) saw the old page\n",
    "\n",
    "df.groupby(['group','landing_page']).count()"
   ]
  },
  {
   "cell_type": "code",
   "execution_count": 30,
   "id": "2fd9c35c",
   "metadata": {},
   "outputs": [
    {
     "data": {
      "text/html": [
       "<div>\n",
       "<style scoped>\n",
       "    .dataframe tbody tr th:only-of-type {\n",
       "        vertical-align: middle;\n",
       "    }\n",
       "\n",
       "    .dataframe tbody tr th {\n",
       "        vertical-align: top;\n",
       "    }\n",
       "\n",
       "    .dataframe thead th {\n",
       "        text-align: right;\n",
       "    }\n",
       "</style>\n",
       "<table border=\"1\" class=\"dataframe\">\n",
       "  <thead>\n",
       "    <tr style=\"text-align: right;\">\n",
       "      <th></th>\n",
       "      <th></th>\n",
       "      <th>user_id</th>\n",
       "      <th>timestamp</th>\n",
       "      <th>converted</th>\n",
       "    </tr>\n",
       "    <tr>\n",
       "      <th>group</th>\n",
       "      <th>landing_page</th>\n",
       "      <th></th>\n",
       "      <th></th>\n",
       "      <th></th>\n",
       "    </tr>\n",
       "  </thead>\n",
       "  <tbody>\n",
       "    <tr>\n",
       "      <th>control</th>\n",
       "      <th>old_page</th>\n",
       "      <td>145274</td>\n",
       "      <td>145274</td>\n",
       "      <td>145274</td>\n",
       "    </tr>\n",
       "    <tr>\n",
       "      <th>treatment</th>\n",
       "      <th>new_page</th>\n",
       "      <td>145311</td>\n",
       "      <td>145311</td>\n",
       "      <td>145311</td>\n",
       "    </tr>\n",
       "  </tbody>\n",
       "</table>\n",
       "</div>"
      ],
      "text/plain": [
       "                        user_id  timestamp  converted\n",
       "group     landing_page                               \n",
       "control   old_page       145274     145274     145274\n",
       "treatment new_page       145311     145311     145311"
      ]
     },
     "execution_count": 30,
     "metadata": {},
     "output_type": "execute_result"
    }
   ],
   "source": [
    "#As we can see, some users in control group (A) saw new page and some in treatment group (B) saw old page\n",
    "#It is not supposed to be like this, but I do not know how to reverse it\n",
    "#We can simply remove these data here\n",
    "\n",
    "df_cleaned = df.loc[(df['group'] == 'control') & (df['landing_page'] == 'old_page') | (df['group'] == 'treatment') & (df['landing_page'] == 'new_page')]\n",
    "df_cleaned.groupby(['group','landing_page']).count()"
   ]
  },
  {
   "cell_type": "code",
   "execution_count": 31,
   "id": "39f33f0a",
   "metadata": {},
   "outputs": [
    {
     "data": {
      "text/plain": [
       "1"
      ]
     },
     "execution_count": 31,
     "metadata": {},
     "output_type": "execute_result"
    }
   ],
   "source": [
    "#Now the control group (A) is restricted to the old page, and the treatment group (B) is restricted to the new page\n",
    "#Then we check the duplicate values in 'user_id'\n",
    "\n",
    "df_cleaned['user_id'].duplicated().sum()"
   ]
  },
  {
   "cell_type": "code",
   "execution_count": 32,
   "id": "5a52c525",
   "metadata": {},
   "outputs": [
    {
     "data": {
      "text/plain": [
       "1899    773192\n",
       "2893    773192\n",
       "Name: user_id, dtype: int64"
      ]
     },
     "execution_count": 32,
     "metadata": {},
     "output_type": "execute_result"
    }
   ],
   "source": [
    "#We want to dig more on this duplicated one\n",
    "\n",
    "df_cleaned[df_cleaned.duplicated(['user_id'],keep=False)]['user_id']"
   ]
  },
  {
   "cell_type": "code",
   "execution_count": 33,
   "id": "6a740ad2",
   "metadata": {},
   "outputs": [
    {
     "data": {
      "text/html": [
       "<div>\n",
       "<style scoped>\n",
       "    .dataframe tbody tr th:only-of-type {\n",
       "        vertical-align: middle;\n",
       "    }\n",
       "\n",
       "    .dataframe tbody tr th {\n",
       "        vertical-align: top;\n",
       "    }\n",
       "\n",
       "    .dataframe thead th {\n",
       "        text-align: right;\n",
       "    }\n",
       "</style>\n",
       "<table border=\"1\" class=\"dataframe\">\n",
       "  <thead>\n",
       "    <tr style=\"text-align: right;\">\n",
       "      <th></th>\n",
       "      <th>user_id</th>\n",
       "      <th>timestamp</th>\n",
       "      <th>group</th>\n",
       "      <th>landing_page</th>\n",
       "      <th>converted</th>\n",
       "    </tr>\n",
       "  </thead>\n",
       "  <tbody>\n",
       "    <tr>\n",
       "      <th>1899</th>\n",
       "      <td>773192</td>\n",
       "      <td>2017-01-09 05:37:58.781806</td>\n",
       "      <td>treatment</td>\n",
       "      <td>new_page</td>\n",
       "      <td>0</td>\n",
       "    </tr>\n",
       "    <tr>\n",
       "      <th>2893</th>\n",
       "      <td>773192</td>\n",
       "      <td>2017-01-14 02:55:59.590927</td>\n",
       "      <td>treatment</td>\n",
       "      <td>new_page</td>\n",
       "      <td>0</td>\n",
       "    </tr>\n",
       "  </tbody>\n",
       "</table>\n",
       "</div>"
      ],
      "text/plain": [
       "      user_id                   timestamp      group landing_page  converted\n",
       "1899   773192  2017-01-09 05:37:58.781806  treatment     new_page          0\n",
       "2893   773192  2017-01-14 02:55:59.590927  treatment     new_page          0"
      ]
     },
     "execution_count": 33,
     "metadata": {},
     "output_type": "execute_result"
    }
   ],
   "source": [
    "df[df['user_id'] == 773192]"
   ]
  },
  {
   "cell_type": "code",
   "execution_count": 34,
   "id": "afc4a631",
   "metadata": {},
   "outputs": [],
   "source": [
    "#It seems that this user saw the new page twice and did not convert both time\n",
    "#For the simplicity of the test, we want to restrict it to each user's first decision only\n",
    "#Hence we remove the second instance for this user\n",
    "\n",
    "df_cleaned = df_cleaned.drop_duplicates(subset='user_id', keep='first')"
   ]
  },
  {
   "cell_type": "code",
   "execution_count": 27,
   "id": "e37acef7",
   "metadata": {},
   "outputs": [
    {
     "data": {
      "text/plain": [
       "<AxesSubplot:xlabel='group,landing_page,converted'>"
      ]
     },
     "execution_count": 27,
     "metadata": {},
     "output_type": "execute_result"
    },
    {
     "data": {
      "image/png": "[encoded data removed]",
      "text/plain": [
       "<Figure size 432x288 with 1 Axes>"
      ]
     },
     "metadata": {
      "needs_background": "light"
     },
     "output_type": "display_data"
    }
   ],
   "source": [
    "#The Data Cleansing part is over above, let us explore more on our data\n",
    "#We plot the data against a Bar Chart, to see the proportions of Conversion on both groups\n",
    "\n",
    "groups = df_cleaned.groupby(['group','landing_page','converted']).size()\n",
    "groups.plot.bar()"
   ]
  },
  {
   "cell_type": "code",
   "execution_count": 35,
   "id": "a555c87f",
   "metadata": {},
   "outputs": [
    {
     "data": {
      "text/plain": [
       "<AxesSubplot:ylabel='landing_page'>"
      ]
     },
     "execution_count": 35,
     "metadata": {},
     "output_type": "execute_result"
    },
    {
     "data": {
      "image/png": "[encoded data removed]",
      "text/plain": [
       "<Figure size 432x288 with 1 Axes>"
      ]
     },
     "metadata": {},
     "output_type": "display_data"
    }
   ],
   "source": [
    "#It appears that they have similar Conversion Rate (approx. 1/7)\n",
    "#We will see if there is a Significant difference through Chi-Square test\n",
    "\n",
    "#As well, we use a Pie Chart to see if the proportions of numbers of users in each group is similar\n",
    "\n",
    "df_cleaned['landing_page'].value_counts().plot.pie()"
   ]
  },
  {
   "cell_type": "code",
   "execution_count": 36,
   "id": "a5b65325",
   "metadata": {},
   "outputs": [],
   "source": [
    "#Data Preparation we conduct here for the Chi-Square data\n",
    "\n",
    "### Re-arrrange data into 2x2 for Chi-Squared\n",
    "\n",
    "# 1) Split groups into two separate DataFrames\n",
    "a = df_cleaned[df_cleaned['group'] == 'control']\n",
    "b = df_cleaned[df_cleaned['group'] == 'treatment']\n",
    "# 2) A-click, A-noclick, B-click, B-noclick\n",
    "a_click = a.converted.sum()\n",
    "a_noclick = a.converted.size - a.converted.sum()\n",
    "b_click = b.converted.sum()\n",
    "b_noclick = b.converted.size - b.converted.sum()\n",
    "# 3) Create np array\n",
    "T = np.array([[a_click, a_noclick], [b_click, b_noclick]])"
   ]
  },
  {
   "cell_type": "code",
   "execution_count": 37,
   "id": "cefe3a93",
   "metadata": {},
   "outputs": [
    {
     "name": "stdout",
     "output_type": "stream",
     "text": [
      "0.18988337448194853\n"
     ]
    }
   ],
   "source": [
    "#Our data is in proper format, we conduct the Chi-Square test now\n",
    "#We use the Spicy library, it will simply calculate the Chi-Square statistic and the p-value\n",
    "\n",
    "import scipy\n",
    "from scipy import stats\n",
    "print(scipy.stats.chi2_contingency(T,correction=False)[1])"
   ]
  },
  {
   "cell_type": "code",
   "execution_count": 38,
   "id": "65852162",
   "metadata": {},
   "outputs": [],
   "source": [
    "#The p-value is calculated to be 19%\n",
    "#Assuming 5% of Level of Significance, we deduce that p-value is greater than the alpha\n",
    "#Hence we do NOT reject the null hypothesis\n",
    "#In short term, there is no significance in conversions between old and new pages"
   ]
  },
  {
   "cell_type": "code",
   "execution_count": 39,
   "id": "f0ed3362",
   "metadata": {},
   "outputs": [
    {
     "name": "stdout",
     "output_type": "stream",
     "text": [
      "0.1203863045004612 0.11880806551510564\n"
     ]
    }
   ],
   "source": [
    "#Sanity Check we conduct here\n",
    "\n",
    "a_CTR = a_click / (a_click + a_noclick)\n",
    "b_CTR = b_click / (b_click + b_noclick)\n",
    "print(a_CTR, b_CTR)"
   ]
  },
  {
   "cell_type": "code",
   "execution_count": 40,
   "id": "1f18a76f",
   "metadata": {},
   "outputs": [],
   "source": [
    "#We now see that the Conversion Rates between the two groups and the difference between them is minimal\n",
    "#This reassures us that this was conducted properly"
   ]
  },
  {
   "cell_type": "code",
   "execution_count": null,
   "id": "ebf4d126",
   "metadata": {},
   "outputs": [],
   "source": []
  },
  {
   "cell_type": "code",
   "execution_count": 41,
   "id": "16782933",
   "metadata": {},
   "outputs": [],
   "source": [
    "#Our conclusion after the A/B test is that the new page does NOT leads to a significant improvement on the Conversion"
   ]
  },
  {
   "cell_type": "code",
   "execution_count": null,
   "id": "46f519c1",
   "metadata": {},
   "outputs": [],
   "source": []
  },
  {
   "cell_type": "code",
   "execution_count": null,
   "id": "b3ac8d8b",
   "metadata": {},
   "outputs": [],
   "source": [
    "### A easy explanation of 'p-value' for people who barely knows statistics\n",
    "#p-value is the probability under the null hypothesis of obtaining a result equals or more extreme than what we obseved\n",
    "#We have 2 assumptions in A/B test, the null hypothesis and the alternative hypothesis\n",
    "#Null hypothesis is no effect, no difference (new page leads no improvement)\n",
    "#Alternative hypothesis is the opposite, statically we only has very small chance to obsever it (significance, usually 5%)\n",
    "#If p-value < 5%, means something that is supposed to have an extremely small chance of happening, but happens\n",
    "#So statistically, we have no more choice to explain it, but only to reject its assumption, the null hypothesis\n",
    "#Vice versa"
   ]
  }
 ],
 "metadata": {
  "kernelspec": {
   "display_name": "Python 3",
   "language": "python",
   "name": "python3"
  },
  "language_info": {
   "codemirror_mode": {
    "name": "ipython",
    "version": 3
   },
   "file_extension": ".py",
   "mimetype": "text/x-python",
   "name": "python",
   "nbconvert_exporter": "python",
   "pygments_lexer": "ipython3",
   "version": "3.8.8"
  }
 },
 "nbformat": 4,
 "nbformat_minor": 5
}
